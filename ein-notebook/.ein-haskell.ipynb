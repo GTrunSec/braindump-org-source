{
 "cells": [
  {
   "cell_type": "code",
   "execution_count": null,
   "metadata": {
    "collapsed": false
   },
   "outputs": [],
   "source": []
  }
 ],
 "metadata": {
  "kernelspec": {
   "argv": [
    "/nix/store/x6z432947byi37pc4dr3chqq82wp8s3q-ihaskell/bin/ihaskell",
    "kernel",
    "{connection_file}",
    "+RTS",
    "-M3g",
    "-N2",
    "-RTS"
   ],
   "display_name": "Haskell - ihaskell-data-env",
   "env": null,
   "interrupt_mode": "signal",
   "language": "haskell",
   "metadata": null,
   "name": "ihaskell-data-env"
  },
  "name": "Untitled.ipynb"
 },
 "nbformat": 4,
 "nbformat_minor": 4
}
